{
 "cells": [
  {
   "cell_type": "code",
   "execution_count": null,
   "id": "622623f9",
   "metadata": {
    "vscode": {
     "languageId": "plaintext"
    }
   },
   "outputs": [],
   "source": [
    "import json\n",
    "import pandas as pd\n",
    "import matplotlib.pyplot as plt\n",
    "import seaborn as sns\n",
    "\n",
    "# Load dataset\n",
    "with open('../data/earthquakes.json') as f:\n",
    "    data = json.load(f)\n",
    "\n",
    "df = pd.DataFrame(data)\n",
    "df = df[df['event_type'] == 'earthquake'].copy()\n",
    "df['timestamp'] = pd.to_datetime(df['timestamp'], unit='ms', origin='unix')\n",
    "\n",
    "df.head()\n"
   ]
  },
  {
   "cell_type": "code",
   "execution_count": null,
   "id": "8c4b92c7",
   "metadata": {
    "vscode": {
     "languageId": "plaintext"
    }
   },
   "outputs": [],
   "source": [
    "# Magnitude distribution\n",
    "plt.figure(figsize=(8, 4))\n",
    "sns.histplot(df['magnitude'], bins=50, kde=True)\n",
    "plt.title(\"Earthquake Magnitude Distribution\")\n",
    "plt.xlabel(\"Magnitude\")\n",
    "plt.ylabel(\"Frequency\")\n",
    "plt.show()\n",
    "\n",
    "# Depth distribution\n",
    "plt.figure(figsize=(8, 4))\n",
    "sns.histplot(df['depth_km'], bins=50, kde=True)\n",
    "plt.title(\"Earthquake Depth Distribution\")\n",
    "plt.xlabel(\"Depth (km)\")\n",
    "plt.ylabel(\"Frequency\")\n",
    "plt.show()\n"
   ]
  },
  {
   "cell_type": "code",
   "execution_count": null,
   "id": "03a3094c",
   "metadata": {
    "vscode": {
     "languageId": "plaintext"
    }
   },
   "outputs": [],
   "source": [
    "# Events by year\n",
    "df['year'] = df['timestamp'].dt.year\n",
    "\n",
    "plt.figure(figsize=(10, 4))\n",
    "df['year'].value_counts().sort_index().plot(kind='bar')\n",
    "plt.title(\"Number of Earthquakes Per Year\")\n",
    "plt.xlabel(\"Year\")\n",
    "plt.ylabel(\"Count\")\n",
    "plt.show()\n"
   ]
  },
  {
   "cell_type": "code",
   "execution_count": null,
   "id": "89169eae",
   "metadata": {
    "vscode": {
     "languageId": "plaintext"
    }
   },
   "outputs": [],
   "source": [
    "# Use scatter if no geopandas/cartopy\n",
    "plt.figure(figsize=(10, 6))\n",
    "plt.scatter(df['longitude'], df['latitude'], c=df['magnitude'], cmap='hot', s=1, alpha=0.5)\n",
    "plt.colorbar(label='Magnitude')\n",
    "plt.title(\"Earthquake Locations Colored by Magnitude\")\n",
    "plt.xlabel(\"Longitude\")\n",
    "plt.ylabel(\"Latitude\")\n",
    "plt.show()\n"
   ]
  }
 ],
 "metadata": {
  "language_info": {
   "name": "python"
  }
 },
 "nbformat": 4,
 "nbformat_minor": 5
}
